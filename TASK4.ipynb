{
  "nbformat": 4,
  "nbformat_minor": 0,
  "metadata": {
    "colab": {
      "name": "TASK4.ipynb",
      "provenance": []
    },
    "kernelspec": {
      "name": "python3",
      "display_name": "Python 3"
    },
    "language_info": {
      "name": "python"
    }
  },
  "cells": [
    {
      "cell_type": "markdown",
      "metadata": {
        "id": "0WADKEmjrUHj"
      },
      "source": [
        "### **Task 4 : Question on Numpy**\n",
        "**Reg ID: GO_STP_10493**"
      ]
    },
    {
      "cell_type": "markdown",
      "metadata": {
        "id": "iWHIy8KYUmEk"
      },
      "source": [
        "**Import the numpy package under the name np and Print the numpy version and the configuration**"
      ]
    },
    {
      "cell_type": "code",
      "metadata": {
        "colab": {
          "base_uri": "https://localhost:8080/"
        },
        "id": "-lT8scqorgRv",
        "outputId": "d4020351-e27a-4464-a35c-6d86c8ec76c7"
      },
      "source": [
        "import numpy as np\n",
        "print(\"Version: {}\".format(np.__version__))\n",
        "print(np.show_config())"
      ],
      "execution_count": null,
      "outputs": [
        {
          "output_type": "stream",
          "text": [
            "Version: 1.19.5\n",
            "blas_mkl_info:\n",
            "  NOT AVAILABLE\n",
            "blis_info:\n",
            "  NOT AVAILABLE\n",
            "openblas_info:\n",
            "    libraries = ['openblas', 'openblas']\n",
            "    library_dirs = ['/usr/local/lib']\n",
            "    language = c\n",
            "    define_macros = [('HAVE_CBLAS', None)]\n",
            "blas_opt_info:\n",
            "    libraries = ['openblas', 'openblas']\n",
            "    library_dirs = ['/usr/local/lib']\n",
            "    language = c\n",
            "    define_macros = [('HAVE_CBLAS', None)]\n",
            "lapack_mkl_info:\n",
            "  NOT AVAILABLE\n",
            "openblas_lapack_info:\n",
            "    libraries = ['openblas', 'openblas']\n",
            "    library_dirs = ['/usr/local/lib']\n",
            "    language = c\n",
            "    define_macros = [('HAVE_CBLAS', None)]\n",
            "lapack_opt_info:\n",
            "    libraries = ['openblas', 'openblas']\n",
            "    library_dirs = ['/usr/local/lib']\n",
            "    language = c\n",
            "    define_macros = [('HAVE_CBLAS', None)]\n",
            "None\n"
          ],
          "name": "stdout"
        }
      ]
    },
    {
      "cell_type": "markdown",
      "metadata": {
        "id": "XS5q6qa0Ur6T"
      },
      "source": [
        "**Create a null vector of size 10**"
      ]
    },
    {
      "cell_type": "code",
      "metadata": {
        "colab": {
          "base_uri": "https://localhost:8080/"
        },
        "id": "_OU3EiC7r1Eq",
        "outputId": "286d200e-e674-4d59-98d4-989b06ca7213"
      },
      "source": [
        "x= np.zeros(10)\n",
        "x"
      ],
      "execution_count": null,
      "outputs": [
        {
          "output_type": "execute_result",
          "data": {
            "text/plain": [
              "array([0., 0., 0., 0., 0., 0., 0., 0., 0., 0.])"
            ]
          },
          "metadata": {
            "tags": []
          },
          "execution_count": 4
        }
      ]
    },
    {
      "cell_type": "code",
      "metadata": {
        "colab": {
          "base_uri": "https://localhost:8080/"
        },
        "id": "YKDfL80Ms5uZ",
        "outputId": "8fab0265-c1d8-48d0-ea06-36e17dbb774d"
      },
      "source": [
        "a= np.arange(1,10,2)\n",
        "a"
      ],
      "execution_count": null,
      "outputs": [
        {
          "output_type": "execute_result",
          "data": {
            "text/plain": [
              "array([1, 3, 5, 7, 9])"
            ]
          },
          "metadata": {
            "tags": []
          },
          "execution_count": 8
        }
      ]
    },
    {
      "cell_type": "code",
      "metadata": {
        "colab": {
          "base_uri": "https://localhost:8080/"
        },
        "id": "c_8beZF3tULA",
        "outputId": "c2ed4786-228e-49ac-aa43-4d8d01a2b3c9"
      },
      "source": [
        "a.dtype"
      ],
      "execution_count": null,
      "outputs": [
        {
          "output_type": "execute_result",
          "data": {
            "text/plain": [
              "dtype('int64')"
            ]
          },
          "metadata": {
            "tags": []
          },
          "execution_count": 9
        }
      ]
    },
    {
      "cell_type": "code",
      "metadata": {
        "colab": {
          "base_uri": "https://localhost:8080/"
        },
        "id": "343eeag2tkuv",
        "outputId": "71939d6a-7385-4898-c065-f9c2ab9a5849"
      },
      "source": [
        "type(a)"
      ],
      "execution_count": null,
      "outputs": [
        {
          "output_type": "execute_result",
          "data": {
            "text/plain": [
              "numpy.ndarray"
            ]
          },
          "metadata": {
            "tags": []
          },
          "execution_count": 10
        }
      ]
    },
    {
      "cell_type": "markdown",
      "metadata": {
        "id": "i9axiyIaU1GP"
      },
      "source": [
        "**How to find number of dimensions, bytes per element and bytes of memory used?**"
      ]
    },
    {
      "cell_type": "code",
      "metadata": {
        "colab": {
          "base_uri": "https://localhost:8080/"
        },
        "id": "_YDVwk12tmxM",
        "outputId": "0a6eec04-9cfc-44b0-9982-200b764c9914"
      },
      "source": [
        "\n",
        "import sys\n",
        "a = np.arange(1,10).reshape(3,3)\n",
        "print(f\"dimension: {a.shape}\")\n",
        "print(\"Bytes per Element: {}\".format(a.itemsize))\n",
        "print(\"Memory size of numpy array is \" +str(a.size*a.itemsize))\n",
        "\n"
      ],
      "execution_count": null,
      "outputs": [
        {
          "output_type": "stream",
          "text": [
            "dimension: (3, 3)\n",
            "Bytes per Element: 8\n",
            "Memory size of numpy array is 72\n"
          ],
          "name": "stdout"
        }
      ]
    },
    {
      "cell_type": "markdown",
      "metadata": {
        "id": "SHR2dwpzU7Pn"
      },
      "source": [
        "**Create a null vector of size 10 but the fifth value which is 1**"
      ]
    },
    {
      "cell_type": "code",
      "metadata": {
        "colab": {
          "base_uri": "https://localhost:8080/"
        },
        "id": "nmIm-U9Tt-zb",
        "outputId": "1f114f2b-b51a-4ec5-8e76-8563ce82b791"
      },
      "source": [
        "a = (np.arange(10)==4).astype(int)\n",
        "a"
      ],
      "execution_count": null,
      "outputs": [
        {
          "output_type": "execute_result",
          "data": {
            "text/plain": [
              "array([0, 0, 0, 0, 1, 0, 0, 0, 0, 0])"
            ]
          },
          "metadata": {
            "tags": []
          },
          "execution_count": 25
        }
      ]
    },
    {
      "cell_type": "markdown",
      "metadata": {
        "id": "31op10NaU5cU"
      },
      "source": [
        "**Create a vector with values ranging from 10 to 49**\n"
      ]
    },
    {
      "cell_type": "code",
      "metadata": {
        "colab": {
          "base_uri": "https://localhost:8080/"
        },
        "id": "LxTt-v9Ww4jx",
        "outputId": "7a5b7c5d-76ad-4a41-f41b-63868145b3d8"
      },
      "source": [
        "a=np.arange(10,50)\n",
        "print(a)\n",
        "\n",
        "# Reverse a vector (first element becomes last)\n",
        "\n",
        "print(\"\\n Reversed vector\\n\",np.flipud(a))\n"
      ],
      "execution_count": null,
      "outputs": [
        {
          "output_type": "stream",
          "text": [
            "[10 11 12 13 14 15 16 17 18 19 20 21 22 23 24 25 26 27 28 29 30 31 32 33\n",
            " 34 35 36 37 38 39 40 41 42 43 44 45 46 47 48 49]\n",
            "\n",
            " Reversed vector\n",
            " [49 48 47 46 45 44 43 42 41 40 39 38 37 36 35 34 33 32 31 30 29 28 27 26\n",
            " 25 24 23 22 21 20 19 18 17 16 15 14 13 12 11 10]\n"
          ],
          "name": "stdout"
        }
      ]
    },
    {
      "cell_type": "markdown",
      "metadata": {
        "id": "Mtt8avrCVEr1"
      },
      "source": [
        "**Create a 3x3 matrix with values ranging from 0 to 8**"
      ]
    },
    {
      "cell_type": "code",
      "metadata": {
        "colab": {
          "base_uri": "https://localhost:8080/"
        },
        "id": "A14kejs0xPLq",
        "outputId": "40c70d8b-e87e-440b-dc1a-e599e75ad4b3"
      },
      "source": [
        "\n",
        "a=np.arange(9).reshape(3,3)\n",
        "a"
      ],
      "execution_count": null,
      "outputs": [
        {
          "output_type": "execute_result",
          "data": {
            "text/plain": [
              "array([[0, 1, 2],\n",
              "       [3, 4, 5],\n",
              "       [6, 7, 8]])"
            ]
          },
          "metadata": {
            "tags": []
          },
          "execution_count": 32
        }
      ]
    },
    {
      "cell_type": "markdown",
      "metadata": {
        "id": "yVeA9a8IVIKb"
      },
      "source": [
        "**Find indices of non-zero elements from [1,2,0,0,4,0]**"
      ]
    },
    {
      "cell_type": "code",
      "metadata": {
        "colab": {
          "base_uri": "https://localhost:8080/"
        },
        "id": "xDICahf_ybki",
        "outputId": "dee59049-120f-48db-ce21-7485b5cc4214"
      },
      "source": [
        "a= np.array([1,2,0,0,4,0])\n",
        "\n",
        "print(\"indexes of non-zero elements are:\", np.nonzero(a))"
      ],
      "execution_count": null,
      "outputs": [
        {
          "output_type": "stream",
          "text": [
            "indexes of non-zero elements are: (array([0, 1, 4]),)\n"
          ],
          "name": "stdout"
        }
      ]
    },
    {
      "cell_type": "markdown",
      "metadata": {
        "id": "aABaf3LSVO2t"
      },
      "source": [
        " **Create a 3x3 identity matrix**"
      ]
    },
    {
      "cell_type": "code",
      "metadata": {
        "colab": {
          "base_uri": "https://localhost:8080/"
        },
        "id": "4ONTyzupyrhO",
        "outputId": "fe493004-f676-40c6-8f4b-dc16968a8290"
      },
      "source": [
        "np.identity(3)"
      ],
      "execution_count": null,
      "outputs": [
        {
          "output_type": "execute_result",
          "data": {
            "text/plain": [
              "array([[1., 0., 0.],\n",
              "       [0., 1., 0.],\n",
              "       [0., 0., 1.]])"
            ]
          },
          "metadata": {
            "tags": []
          },
          "execution_count": 44
        }
      ]
    },
    {
      "cell_type": "markdown",
      "metadata": {
        "id": "t2Y4IwLiVS-2"
      },
      "source": [
        "**Create a 3x3x3 array with random values**"
      ]
    },
    {
      "cell_type": "code",
      "metadata": {
        "colab": {
          "base_uri": "https://localhost:8080/"
        },
        "id": "iZfjhD4Q1HVm",
        "outputId": "b7ea49a5-7f56-4383-f58e-44f96c89afcc"
      },
      "source": [
        "np.random.random((3,3,3))"
      ],
      "execution_count": null,
      "outputs": [
        {
          "output_type": "execute_result",
          "data": {
            "text/plain": [
              "array([[[0.02190034, 0.75452266, 0.6255544 ],\n",
              "        [0.80657637, 0.34802348, 0.00380537],\n",
              "        [0.08913666, 0.16934539, 0.73023891]],\n",
              "\n",
              "       [[0.75703895, 0.67333809, 0.04060223],\n",
              "        [0.20491815, 0.83972498, 0.03012421],\n",
              "        [0.94986874, 0.58630052, 0.39176981]],\n",
              "\n",
              "       [[0.72766803, 0.18187769, 0.56899865],\n",
              "        [0.77378885, 0.86987623, 0.10605904],\n",
              "        [0.40450675, 0.73660842, 0.69577759]]])"
            ]
          },
          "metadata": {
            "tags": []
          },
          "execution_count": 47
        }
      ]
    },
    {
      "cell_type": "markdown",
      "metadata": {
        "id": "GjV0cxeuVX19"
      },
      "source": [
        "**Create a 10x10 array with random values and find the minimum and maximum values**"
      ]
    },
    {
      "cell_type": "code",
      "metadata": {
        "colab": {
          "base_uri": "https://localhost:8080/"
        },
        "id": "WM9geUXd1iOG",
        "outputId": "1c247ca0-59e9-43c3-9620-2c436e4cf2fd"
      },
      "source": [
        "a=np.random.random((10,10))\n",
        "print('max value',a.max())\n",
        "print('min value',a.min())\n",
        "# Create a random vector of size 30 and find the mean value\n",
        "vector = np.random.random(30)\n",
        "print(\"Mean value is\",vector.mean())\n",
        "vector\n",
        "\n"
      ],
      "execution_count": null,
      "outputs": [
        {
          "output_type": "stream",
          "text": [
            "max value 0.9858289873019561\n",
            "min value 0.007280950496177052\n",
            "Mean value is 0.5339807670678084\n"
          ],
          "name": "stdout"
        },
        {
          "output_type": "execute_result",
          "data": {
            "text/plain": [
              "array([0.82279818, 0.49031196, 0.49067155, 0.11840311, 0.15334389,\n",
              "       0.9598201 , 0.10219841, 0.66673563, 0.34263726, 0.43887875,\n",
              "       0.68609477, 0.6688036 , 0.76586956, 0.63499792, 0.87272937,\n",
              "       0.02072781, 0.68099517, 0.81483459, 0.66071465, 0.39202572,\n",
              "       0.21647089, 0.1784969 , 0.83855389, 0.49774642, 0.2386957 ,\n",
              "       0.48702777, 0.62620019, 0.67149788, 0.86681063, 0.61433072])"
            ]
          },
          "metadata": {
            "tags": []
          },
          "execution_count": 59
        }
      ]
    },
    {
      "cell_type": "markdown",
      "metadata": {
        "id": "9YeCeswnVd7X"
      },
      "source": [
        "**Create a 2d array with 1 on the border and 0 inside**"
      ]
    },
    {
      "cell_type": "code",
      "metadata": {
        "colab": {
          "base_uri": "https://localhost:8080/"
        },
        "id": "Mu-M23F51-Hz",
        "outputId": "a6bfb06b-8e67-4879-f5dd-a3bf7859f106"
      },
      "source": [
        "a=np.ones((10,10))\n",
        "print(a)\n",
        "print(\" \\nArray with 1 on the border and 0 inside:\")\n",
        "a[1:-1, 1:-1] = 0\n",
        "print(a)"
      ],
      "execution_count": null,
      "outputs": [
        {
          "output_type": "stream",
          "text": [
            "[[1. 1. 1. 1. 1. 1. 1. 1. 1. 1.]\n",
            " [1. 1. 1. 1. 1. 1. 1. 1. 1. 1.]\n",
            " [1. 1. 1. 1. 1. 1. 1. 1. 1. 1.]\n",
            " [1. 1. 1. 1. 1. 1. 1. 1. 1. 1.]\n",
            " [1. 1. 1. 1. 1. 1. 1. 1. 1. 1.]\n",
            " [1. 1. 1. 1. 1. 1. 1. 1. 1. 1.]\n",
            " [1. 1. 1. 1. 1. 1. 1. 1. 1. 1.]\n",
            " [1. 1. 1. 1. 1. 1. 1. 1. 1. 1.]\n",
            " [1. 1. 1. 1. 1. 1. 1. 1. 1. 1.]\n",
            " [1. 1. 1. 1. 1. 1. 1. 1. 1. 1.]]\n",
            " \n",
            "Array with 1 on the border and 0 inside:\n",
            "[[1. 1. 1. 1. 1. 1. 1. 1. 1. 1.]\n",
            " [1. 0. 0. 0. 0. 0. 0. 0. 0. 1.]\n",
            " [1. 0. 0. 0. 0. 0. 0. 0. 0. 1.]\n",
            " [1. 0. 0. 0. 0. 0. 0. 0. 0. 1.]\n",
            " [1. 0. 0. 0. 0. 0. 0. 0. 0. 1.]\n",
            " [1. 0. 0. 0. 0. 0. 0. 0. 0. 1.]\n",
            " [1. 0. 0. 0. 0. 0. 0. 0. 0. 1.]\n",
            " [1. 0. 0. 0. 0. 0. 0. 0. 0. 1.]\n",
            " [1. 0. 0. 0. 0. 0. 0. 0. 0. 1.]\n",
            " [1. 1. 1. 1. 1. 1. 1. 1. 1. 1.]]\n"
          ],
          "name": "stdout"
        }
      ]
    },
    {
      "cell_type": "markdown",
      "metadata": {
        "id": "U01I0hQiVgHF"
      },
      "source": [
        "**How to add a border (filled with 0's) around an existing array? **"
      ]
    },
    {
      "cell_type": "code",
      "metadata": {
        "colab": {
          "base_uri": "https://localhost:8080/"
        },
        "id": "qbClMRC56DE7",
        "outputId": "526cf541-69eb-417f-fffe-ae95a25efeea"
      },
      "source": [
        "arr = np.arange(1,10).reshape(3,3)\n",
        "np.pad(arr, pad_width=1, mode='constant', constant_values=0 )"
      ],
      "execution_count": null,
      "outputs": [
        {
          "output_type": "execute_result",
          "data": {
            "text/plain": [
              "array([[0, 0, 0, 0, 0],\n",
              "       [0, 1, 2, 3, 0],\n",
              "       [0, 4, 5, 6, 0],\n",
              "       [0, 7, 8, 9, 0],\n",
              "       [0, 0, 0, 0, 0]])"
            ]
          },
          "metadata": {
            "tags": []
          },
          "execution_count": 79
        }
      ]
    },
    {
      "cell_type": "markdown",
      "metadata": {
        "id": "DQzrDy8vVl7v"
      },
      "source": [
        "**How to Accessing/Changing specific elements, rows, columns, etc in Numpy array?\n",
        "\n",
        "Example -\n",
        "  [[ 1 2 3 4 5 6 7] [ 8 9 10 11 12 13 14]]\n",
        "Get 13, get first row only, get 3rd column only, get [2, 4, 6], replace 13 by 20**"
      ]
    },
    {
      "cell_type": "code",
      "metadata": {
        "colab": {
          "base_uri": "https://localhost:8080/"
        },
        "id": "Pss5Xb4L6Yyn",
        "outputId": "ddb3602f-7898-47a4-fdc5-e64ce849b581"
      },
      "source": [
        "arr= np.array([[ 1, 2, 3, 4 ,5, 6, 7], [ 8, 9, 10, 11, 12 ,13, 14]])\n",
        "print(arr[1,5])\n",
        "print(arr[0])\n",
        "print(arr[:,2])\n",
        "arr[1,5] = 20\n",
        "print(arr[0][1::2])\n",
        "print(\"Array after Replaced value\\n\",arr)"
      ],
      "execution_count": null,
      "outputs": [
        {
          "output_type": "stream",
          "text": [
            "13\n",
            "[1 2 3 4 5 6 7]\n",
            "[ 3 10]\n",
            "[2 4 6]\n",
            "Array after Replaced value\n",
            " [[ 1  2  3  4  5  6  7]\n",
            " [ 8  9 10 11 12 20 14]]\n"
          ],
          "name": "stdout"
        }
      ]
    },
    {
      "cell_type": "markdown",
      "metadata": {
        "id": "Iu0xHOkjVzhm"
      },
      "source": [
        "**How to Convert a 1D array to a 2D array with 2 rows**"
      ]
    },
    {
      "cell_type": "code",
      "metadata": {
        "colab": {
          "base_uri": "https://localhost:8080/"
        },
        "id": "3oAhXTUL9691",
        "outputId": "015fded3-0d95-49c0-e829-003616b0eecf"
      },
      "source": [
        "arr2 = np.arange(1,9)\n",
        "print(arr2)\n",
        "print(\"\\n Converted 2D Array\\n\", arr2.reshape(2,4))"
      ],
      "execution_count": null,
      "outputs": [
        {
          "output_type": "stream",
          "text": [
            "[1 2 3 4 5 6 7 8]\n",
            "\n",
            " Converted 2D Array\n",
            " [[1 2 3 4]\n",
            " [5 6 7 8]]\n"
          ],
          "name": "stdout"
        }
      ]
    },
    {
      "cell_type": "markdown",
      "metadata": {
        "id": "tkT9FWV6V2s3"
      },
      "source": [
        "**Create the following pattern without hardcoding. Use only numpy functions and the below input array a.\n",
        "input:\n",
        "   a = np.array([1,2,3])\n",
        "Desired Output:\n",
        "   array([1, 1, 1, 2, 2, 2, 3, 3, 3, 1, 2, 3, 1, 2, 3, 1, 2, 3])**"
      ]
    },
    {
      "cell_type": "code",
      "metadata": {
        "colab": {
          "base_uri": "https://localhost:8080/"
        },
        "id": "M3vdnxf5Krne",
        "outputId": "9a8a6f89-7da1-4184-c54e-746a653a63a4"
      },
      "source": [
        "a = np.array([1,2,3])\n",
        "b = np.r_[np.repeat(a,3), np.tile(a,3)]\n",
        "print(\"required pattern:\\n\", b)\n"
      ],
      "execution_count": null,
      "outputs": [
        {
          "output_type": "stream",
          "text": [
            "required pattern:\n",
            " [1 1 1 2 2 2 3 3 3 1 2 3 1 2 3 1 2 3]\n"
          ],
          "name": "stdout"
        }
      ]
    },
    {
      "cell_type": "markdown",
      "metadata": {
        "id": "p_yBi-DhV9kn"
      },
      "source": [
        "**Write a program to show how Numpy taking less memory compared to Python List?**\n"
      ]
    },
    {
      "cell_type": "code",
      "metadata": {
        "colab": {
          "base_uri": "https://localhost:8080/"
        },
        "id": "NSBk_mDbMx2s",
        "outputId": "98af1eaf-f7f5-446e-c20e-82bfb00e0d4d"
      },
      "source": [
        "list1= range(1000)\n",
        "\n",
        "import sys\n",
        "a=10\n",
        "print(sys.getsizeof(a))  # Memory allocated to a\n",
        "print(\"\\nBytes required for list storage \",sys.getsizeof(a)*len(list1))\n",
        "\n",
        "a1= np.arange(1000)\n",
        "print(\"\\nBytes required for array storage \",a1.size*a1.itemsize)\n",
        "print(\"So Numpy arrays requires less memory compared to list\")\n"
      ],
      "execution_count": null,
      "outputs": [
        {
          "output_type": "stream",
          "text": [
            "28\n",
            "\n",
            "Bytes required for list storage  28000\n",
            "\n",
            "Bytes required for array storage  8000\n",
            "So Numpy arrays requires less memory compared to list\n"
          ],
          "name": "stdout"
        }
      ]
    },
    {
      "cell_type": "markdown",
      "metadata": {
        "id": "PahUItLHWBOH"
      },
      "source": [
        "**Write a program to show how Numpy taking less time compared to Python List?\n",
        "Calculating time required for lists operation**"
      ]
    },
    {
      "cell_type": "code",
      "metadata": {
        "colab": {
          "base_uri": "https://localhost:8080/"
        },
        "id": "SMp70oQ5P8ng",
        "outputId": "1b1ec4c4-c272-4106-f65f-34f2bb41251d"
      },
      "source": [
        "import time \n",
        "size =1000000\n",
        "l1= range(size)\n",
        "l2=range(size)\n",
        "start = time.time()\n",
        "result= [ (x+y) for x,y in zip(l1, l2)]\n",
        "print(\"Time required for list operations is \" +str((time.time() -start)*1000))\n",
        "\n",
        "# Calculating time required for Numpy array operation\n",
        "n1= np.arange(size)\n",
        "n2=np.arange(size)\n",
        "start = time.time()\n",
        "result = n1 +n2\n",
        "print(\"Time required for NumPy array operations is \" +str((time.time() -start)*1000))\n",
        "\n"
      ],
      "execution_count": null,
      "outputs": [
        {
          "output_type": "stream",
          "text": [
            "Time required for list operations is 120.67770957946777\n",
            "Time required for NumPy array operations is 18.964052200317383\n"
          ],
          "name": "stdout"
        }
      ]
    }
  ]
}